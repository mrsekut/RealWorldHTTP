{
 "cells": [
  {
   "cell_type": "markdown",
   "metadata": {
    "heading_collapsed": true,
    "slideshow": {
     "slide_type": "slide"
    }
   },
   "source": [
    "# このスライドへのアクセス方法\n",
    "\n",
    "1. 「nbviewer.jupyter.org」というサイトへアクセス\n",
    "2. 「mrsekut」で検索\n",
    "3. 「RealWorldHTTP > myproduct > slide > HTTP2.ipynb」\n",
    "4. 右上のプレゼントマークでスライドっぽく表示\n",
    "5. スペースキーで順番に移動\n",
    "\n",
    "[リンク](http://nbviewer.jupyter.org/github/mrsekut/RealWorldHTTP/blob/master/myproduct/slide/HTTP2.ipynb)\n"
   ]
  },
  {
   "cell_type": "markdown",
   "metadata": {
    "slideshow": {
     "slide_type": "slide"
    }
   },
   "source": [
    "# HTTP/2.0について\n",
    "\n",
    "丸末皓太"
   ]
  },
  {
   "cell_type": "markdown",
   "metadata": {
    "slideshow": {
     "slide_type": "slide"
    }
   },
   "source": [
    "# 自己紹介\n",
    "\n",
    "### 丸末皓太\n",
    "- 大阪府立大学(いちおうたぶん2回生)\n",
    "- 休学中\n",
    "- 府大生向けの「Opulency」というアプリを作った\n",
    "- 現在はtryangle社でばりばりアプリ開発してる卍卍\n",
    "- 最近興味あること\n",
    "    - Typescript: ReactNative\n",
    "    - Haskell: 関数型プログラミング\n",
    "    - Go: ネットワーク, プログラミング言語そのもの\n",
    "    - Rust: OSなどの低レイヤ\n",
    "    - テスト  \n",
    "\n"
   ]
  },
  {
   "cell_type": "markdown",
   "metadata": {
    "slideshow": {
     "slide_type": "subslide"
    }
   },
   "source": [
    "![mrsekut](https://github.com/mrsekut/myStorage/blob/master/img/mrsekut_circle.png?raw=true)\n",
    "\n",
    "### SNS\n",
    "- blog: [mrsekutの備忘録: http://mrsekut.site/](http://mrsekut.site/)\n",
    "- twitter: [@mrsekut](https://twitter.com/mrsekut)\n",
    "- github: [mrsekut](https://github.com/mrsekut)"
   ]
  },
  {
   "cell_type": "markdown",
   "metadata": {
    "slideshow": {
     "slide_type": "slide"
    }
   },
   "source": [
    "# 発表のながれ\n",
    "★あとで修正\n",
    "1. 発表の目的\n",
    "1. 従来のHTTP\n",
    "1. HTTP/2の概要\n",
    "1. 試してみる\n",
    "1. なんか\n",
    "1. なんか\n"
   ]
  },
  {
   "cell_type": "markdown",
   "metadata": {
    "heading_collapsed": true,
    "slideshow": {
     "slide_type": "subslide"
    }
   },
   "source": [
    "# 発表の目的\n",
    "\n",
    "- 浅く広く紹介します\n",
    "- キーワードを拾っていってもらえばと思います"
   ]
  },
  {
   "cell_type": "markdown",
   "metadata": {
    "slideshow": {
     "slide_type": "slide"
    }
   },
   "source": [
    "# 従来のHTTP\n"
   ]
  },
  {
   "cell_type": "markdown",
   "metadata": {
    "slideshow": {
     "slide_type": "subslide"
    }
   },
   "source": [
    "## 概要\n",
    "\n",
    "- リクエストとレスポンス\n",
    "- HTTP/1.1\n",
    "    - 1997年に策定"
   ]
  },
  {
   "cell_type": "markdown",
   "metadata": {
    "slideshow": {
     "slide_type": "subslide"
    }
   },
   "source": [
    "## HTTP1.1の課題\n",
    "\n",
    "- リクエストの多重化\n",
    "    - ページが大きくなり必要なリソースが増えた\n",
    "    - 1RTTで1リクエスト/1レスポンスしかできない\n",
    "- パイプライン化\n",
    "    - 同時に複数のリクエストを送れるようになった\n",
    "    - しかし、同じ順序でレスポンスしないといけない\n",
    "    - HoL(Head of Line)ブロッキング問題\n",
    "    - ![](https://upload.wikimedia.org/wikipedia/commons/thumb/1/19/HTTP_pipelining2.svg/640px-HTTP_pipelining2.svg.png)\n",
    "\n"
   ]
  },
  {
   "cell_type": "markdown",
   "metadata": {
    "slideshow": {
     "slide_type": "notes"
    }
   },
   "source": [
    "- パイプライン化\n",
    "    - 前回のリクエストの完了を待たずに次のリクエストを送れるようになった\n",
    "    - \n",
    "    - 一つ処理に時間がかかるものがあると、後続のレスポンスは全てブロックされる\n",
    "    - これをHoLブロッキング問題と呼ぶ"
   ]
  },
  {
   "cell_type": "markdown",
   "metadata": {
    "slideshow": {
     "slide_type": "slide"
    }
   },
   "source": [
    "# HTTP/2の概要"
   ]
  },
  {
   "cell_type": "markdown",
   "metadata": {
    "slideshow": {
     "slide_type": "subslide"
    }
   },
   "source": [
    "## 誕生の背景\n",
    "\n",
    "- アクセスの増加\n",
    "- 16年ぶりの改訂\n",
    "- GoogleのSPDYから生まれた"
   ]
  },
  {
   "cell_type": "markdown",
   "metadata": {
    "slideshow": {
     "slide_type": "notes"
    }
   },
   "source": [
    "- LTEなどの普及によりエンドユーザーの通信速度は上昇したが、サーバー側のページロードの速度はそれに比例せず1.6Mbpsほどで頭打ちしていた\n",
    "- 2009年からgoogleが独自にweb高速化の取り組みの一環からSPDYというプロトコルを作っていた\n",
    "    - Twitter,Facebookでも使われるようになった\n",
    "    - HTTP/2はこのSPDYを改良したもの"
   ]
  },
  {
   "cell_type": "markdown",
   "metadata": {
    "slideshow": {
     "slide_type": "subslide"
    }
   },
   "source": [
    "## HTTP/2の特徴\n",
    "\n",
    "- ヘッダの圧縮\n",
    "- サーバープッシュ\n",
    "- リクエストの優先度制御\n",
    "- バイナリプロトコル\n",
    "- シングルコネクション???\n"
   ]
  },
  {
   "cell_type": "markdown",
   "metadata": {
    "slideshow": {
     "slide_type": "slide"
    }
   },
   "source": [
    "# 試してみる"
   ]
  },
  {
   "cell_type": "markdown",
   "metadata": {
    "slideshow": {
     "slide_type": "subslide"
    }
   },
   "source": [
    "## curlコマンドでリクエストを送る"
   ]
  },
  {
   "cell_type": "code",
   "execution_count": 8,
   "metadata": {
    "slideshow": {
     "slide_type": "fragment"
    }
   },
   "outputs": [
    {
     "name": "stdout",
     "output_type": "stream",
     "text": [
      "* Rebuilt URL to: http://localhost:18888/\r\n",
      "*   Trying ::1...\r\n",
      "* TCP_NODELAY set\r\n",
      "* Connected to localhost (::1) port 18888 (#0)\r\n",
      "> GET / HTTP/1.1\r",
      "\r\n",
      "> Host: localhost:18888\r",
      "\r\n",
      "> User-Agent: curl/7.54.0\r",
      "\r\n",
      "> Accept: */*\r",
      "\r\n",
      "> \r",
      "\r\n",
      "< HTTP/1.1 200 OK\r",
      "\r\n",
      "< Date: Tue, 28 Aug 2018 15:24:53 GMT\r",
      "\r\n",
      "< Content-Length: 37\r",
      "\r\n",
      "< Content-Type: text/html; charset=utf-8\r",
      "\r\n",
      "< \r",
      "\r\n",
      "* Connection #0 to host localhost left intact\r\n",
      "<html><body>hello world</body></html>"
     ]
    }
   ],
   "source": [
    "!curl -v http://localhost:18888"
   ]
  },
  {
   "cell_type": "markdown",
   "metadata": {
    "slideshow": {
     "slide_type": "slide"
    }
   },
   "source": [
    "### ヘッダの圧縮\n",
    "\n",
    "\n",
    "- ヘッダー圧縮\n",
    "    - 従来の圧縮に加え、ヘッダ部分の圧縮ができる\n",
    "    - HPACK\n",
    "        - バイナリ形式\n",
    "        - 高頻度で用いられるヘッダーのキーと値を組にした辞書\n",
    "        - 動的に辞書を更新し、2回目移行はインデックスを用いる\n",
    "        - キーや値の文字列をハフマン符号化によって圧縮\n",
    "        - 差分のみを送信する\n"
   ]
  },
  {
   "cell_type": "markdown",
   "metadata": {
    "slideshow": {
     "slide_type": "notes"
    }
   },
   "source": [
    "- HTTP/1.1のヘッダは大きい\n",
    "    - リクエストは最低でも300Byte程度\n",
    "    - Cookieなどで更に増える"
   ]
  },
  {
   "cell_type": "markdown",
   "metadata": {
    "slideshow": {
     "slide_type": "slide"
    }
   },
   "source": [
    "### 多重化\n",
    "\n",
    "- ストリームという単位を用いる\n",
    "- 同時に100以上のリクエストを送信可能\n",
    "- 複数並列に扱うことができる\n",
    "    - HoLブロッキング問題を解決\n",
    "    - レスポンスの順序に制限なし\n",
    "\n",
    "- 1つの接続上にストリームと呼ばれる仮想的な双方向シーケンスを作る(するとどうなる？)\n",
    "\n",
    "- ストリームはサーバ側でもクライアント側でも開始可能\n",
    "- ストリームにはIDが振られ、クライアント側は奇数、サーバ側は偶数番号を割り当て、重複を防いでいる\n"
   ]
  },
  {
   "cell_type": "markdown",
   "metadata": {
    "slideshow": {
     "slide_type": "fragment"
    }
   },
   "source": [
    "### フロー制御?\n",
    "\n",
    "- ストリームごとにフロー制御が可能\n"
   ]
  },
  {
   "cell_type": "markdown",
   "metadata": {
    "slideshow": {
     "slide_type": "notes"
    }
   },
   "source": []
  },
  {
   "cell_type": "markdown",
   "metadata": {
    "slideshow": {
     "slide_type": "subslide"
    }
   },
   "source": [
    "### リクエストの優先度制御\n",
    "\n",
    "- クライアントがサーバーにレスポンス優先度を指定できる\n",
    "- 優先度を付けることでユーザ体感速度を大幅に向上させることができる\n",
    "- 重み付け\n",
    "    - 値に比例したバンド幅の配分★\n",
    "- 依存関係\n",
    "    - 依存しているレスポンス先に送信\n",
    "    - グループ化にも利用\n",
    "    \n",
    "##### 参考\n",
    "39~\n",
    "https://www.slideshare.net/kazuho/http-58452175"
   ]
  },
  {
   "cell_type": "markdown",
   "metadata": {
    "slideshow": {
     "slide_type": "subslide"
    }
   },
   "source": [
    "### サーバープッシュ\n",
    "\n",
    "- サーバーがクライアントの発行するリクエストを予測してレスポンスを返す\n",
    "- 0RTTにすることができる\n",
    "\n"
   ]
  },
  {
   "cell_type": "markdown",
   "metadata": {
    "slideshow": {
     "slide_type": "notes"
    }
   },
   "source": [
    "- 「重み付け」と「依存関係」の2種類の制御手法の組み合わせで優先度を制御している\n",
    "- サーバーは指定された優先度を「参考にする」★"
   ]
  },
  {
   "cell_type": "markdown",
   "metadata": {
    "slideshow": {
     "slide_type": "slide"
    }
   },
   "source": [
    "### バイナリベース\n",
    "\n",
    "\n",
    "  - サーバーがパースを簡単に行えるようになり、よりコンパクトに、そしてエラーを減らすことができる\n",
    "  - 脆弱性を防ぐ\n",
    "    - HTTP Response Splitting Attack\n",
    "    - レスポンス分割攻撃\n",
    "  - 転送データ量の低減\n",
    "  - 全てのデータは「フレーム」に分解して送受信\n"
   ]
  },
  {
   "cell_type": "markdown",
   "metadata": {
    "slideshow": {
     "slide_type": "slide"
    }
   },
   "source": [
    "### シングルコネクション\n",
    "\n",
    "  - ウェブサイトを読み込むためにサーバーに接続する回数はたったの一度\n",
    "  - TCPコネクションを張るために必要なラウンドトリップの回数を減らす\n",
    "\n",
    "\n"
   ]
  },
  {
   "cell_type": "markdown",
   "metadata": {
    "slideshow": {
     "slide_type": "slide"
    }
   },
   "source": [
    "## chromeで確認する方法\n"
   ]
  },
  {
   "cell_type": "markdown",
   "metadata": {
    "slideshow": {
     "slide_type": "slide"
    }
   },
   "source": [
    "# 対応"
   ]
  },
  {
   "cell_type": "markdown",
   "metadata": {
    "slideshow": {
     "slide_type": "slide"
    }
   },
   "source": [
    "# さいごに\n",
    "\n",
    "- もうちょい詳細にしてブログにまとめます"
   ]
  },
  {
   "cell_type": "markdown",
   "metadata": {
    "slideshow": {
     "slide_type": "slide"
    }
   },
   "source": [
    "# 参考文献\n",
    "\n",
    "- Real World HTTP\n",
    "- https://ja.wikipedia.org/wiki/HTTP/2\n",
    "- https://blog.redbox.ne.jp/http2-cdn.html\n",
    "- http://www.seojapan.com/blog/everyone-moving-http2\n",
    "- https://www.slideshare.net/kazuho/http-58452175"
   ]
  }
 ],
 "metadata": {
  "celltoolbar": "Slideshow",
  "kernelspec": {
   "display_name": "Python 3",
   "language": "python",
   "name": "python3"
  },
  "language_info": {
   "codemirror_mode": {
    "name": "ipython",
    "version": 3
   },
   "file_extension": ".py",
   "mimetype": "text/x-python",
   "name": "python",
   "nbconvert_exporter": "python",
   "pygments_lexer": "ipython3",
   "version": "3.6.1"
  },
  "toc": {
   "nav_menu": {},
   "number_sections": false,
   "sideBar": true,
   "skip_h1_title": false,
   "toc_cell": false,
   "toc_position": {
    "height": "794px",
    "left": "0px",
    "right": "1466px",
    "top": "111px",
    "width": "212px"
   },
   "toc_section_display": "block",
   "toc_window_display": false
  }
 },
 "nbformat": 4,
 "nbformat_minor": 2
}
