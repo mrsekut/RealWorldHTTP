{
 "cells": [
  {
   "cell_type": "markdown",
   "metadata": {
    "heading_collapsed": true,
    "slideshow": {
     "slide_type": "slide"
    }
   },
   "source": [
    "# このスライドへのアクセス方法\n",
    "\n",
    "1. 「nbviewer.jupyter.org」というサイトへアクセス\n",
    "2. 「mrsekut」で検索\n",
    "3. 「RealWorldHTTP > myproduct > slide > HTTP2.ipynb」\n",
    "4. 右上のプレゼントマークでスライドっぽく表示\n",
    "5. スペースキーで順番に移動\n",
    "\n",
    "[リンク](http://nbviewer.jupyter.org/github/mrsekut/RealWorldHTTP/blob/master/myproduct/slide/HTTP2.ipynb)\n"
   ]
  },
  {
   "cell_type": "markdown",
   "metadata": {
    "slideshow": {
     "slide_type": "slide"
    }
   },
   "source": [
    "# HTTP/2.0について\n",
    "\n",
    "丸末皓太"
   ]
  },
  {
   "cell_type": "markdown",
   "metadata": {
    "slideshow": {
     "slide_type": "slide"
    }
   },
   "source": [
    "# 自己紹介\n",
    "\n",
    "### 丸末皓太\n",
    "- 大阪府立大学(いちおうたぶん2回生)\n",
    "- 休学中\n",
    "- 府大生向けの「Opulency」というアプリを作った\n",
    "- 現在はtryangle社でばりばりアプリ開発してる卍卍\n",
    "- 最近興味あること\n",
    "    - Typescript: ReactNative\n",
    "    - Haskell: 関数型プログラミング\n",
    "    - Go: ネットワーク, プログラミング言語そのもの\n",
    "    - Rust: OSなどの低レイヤ\n",
    "    - テスト  \n",
    "\n"
   ]
  },
  {
   "cell_type": "markdown",
   "metadata": {
    "slideshow": {
     "slide_type": "notes"
    }
   },
   "source": [
    "- 大学に入ってから本格的にプログラミングを始めた\n",
    "- 1回生でprogateなどでhtml,cssとか、普通にvimとか触った\n",
    "- 2回生になって機械学習の勉強を始めたり、reactでopulencyというアプリを作り始めた\n",
    "- opulencyは今年の4月にリリースして2週間で500人くらいにいれてもらったが、リリースした瞬間にモチベが切れ、終わった"
   ]
  },
  {
   "cell_type": "markdown",
   "metadata": {
    "slideshow": {
     "slide_type": "subslide"
    }
   },
   "source": [
    "![mrsekut](https://github.com/mrsekut/myStorage/blob/master/img/mrsekut_circle.png?raw=true)\n",
    "\n",
    "### SNS\n",
    "- blog: [mrsekutの備忘録: http://mrsekut.site/](http://mrsekut.site/)\n",
    "- twitter: [@mrsekut](https://twitter.com/mrsekut)\n",
    "- github: [mrsekut](https://github.com/mrsekut)"
   ]
  },
  {
   "cell_type": "markdown",
   "metadata": {
    "slideshow": {
     "slide_type": "slide"
    }
   },
   "source": [
    "# 発表のながれ\n",
    "★あとで修正\n",
    "1. 発表の目的\n",
    "1. 従来のHTTP\n",
    "1. HTTP/2の概要\n",
    "1. 試してみる\n",
    "1. なんか\n",
    "1. なんか\n"
   ]
  },
  {
   "cell_type": "markdown",
   "metadata": {
    "heading_collapsed": true,
    "slideshow": {
     "slide_type": "subslide"
    }
   },
   "source": [
    "# 発表の目的\n",
    "\n",
    "- 浅く広く紹介します\n",
    "- キーワードを拾っていってもらえばと思います"
   ]
  },
  {
   "cell_type": "markdown",
   "metadata": {
    "slideshow": {
     "slide_type": "slide"
    }
   },
   "source": [
    "# 従来のHTTP\n"
   ]
  },
  {
   "cell_type": "markdown",
   "metadata": {
    "slideshow": {
     "slide_type": "subslide"
    }
   },
   "source": [
    "## 概要\n",
    "\n",
    "- リクエストとレスポンス\n",
    "- HTTP/1.1\n",
    "    - 1997年に策定"
   ]
  },
  {
   "cell_type": "markdown",
   "metadata": {
    "slideshow": {
     "slide_type": "slide"
    }
   },
   "source": [
    "## HTTP1.1の課題\n",
    "\n",
    "- リクエストの多重化\n",
    "    - ページが大きくなり必要なリソースが増えた\n",
    "    - 1RTTで1リクエスト/1レスポンスしかできない\n",
    "- パイプライン化\n",
    "    - 同時に複数のリクエストを送れるようになった\n",
    "    - しかし、同じ順序でレスポンスしないといけない\n",
    "    - HoL(Head of Line)ブロッキング問題\n",
    "    - ![wikiから引用](https://upload.wikimedia.org/wikipedia/commons/thumb/1/19/HTTP_pipelining2.svg/640px-HTTP_pipelining2.svg.png)\n",
    "      \n",
    "\n"
   ]
  },
  {
   "cell_type": "markdown",
   "metadata": {
    "slideshow": {
     "slide_type": "notes"
    }
   },
   "source": [
    "- パイプライン化\n",
    "    - 前回のリクエストの完了を待たずに次のリクエストを送れるようになった\n",
    "    - \n",
    "    - 一つ処理に時間がかかるものがあると、後続のレスポンスは全てブロックされる\n",
    "    - これをHoLブロッキング問題と呼ぶ"
   ]
  },
  {
   "cell_type": "markdown",
   "metadata": {
    "slideshow": {
     "slide_type": "slide"
    }
   },
   "source": [
    "# HTTP/2の概要"
   ]
  },
  {
   "cell_type": "markdown",
   "metadata": {
    "slideshow": {
     "slide_type": "subslide"
    }
   },
   "source": [
    "## 誕生の背景\n",
    "\n",
    "- アクセスの増加\n",
    "- HTTP/1.1から16年ぶりの改訂\n",
    "- GoogleのSPDYから生まれた\n",
    "- 当初のプロジェクトの目標はページ読み込み時間の50%減"
   ]
  },
  {
   "cell_type": "markdown",
   "metadata": {
    "slideshow": {
     "slide_type": "notes"
    }
   },
   "source": [
    "- LTEなどの普及によりエンドユーザーの通信速度は上昇したが、サーバー側のページロードの速度はそれに比例せず1.6Mbpsほどで頭打ちしていた\n",
    "- 2009年からgoogleが独自にweb高速化の取り組みの一環からSPDYというプロトコルを作っていた\n",
    "    - Twitter,Facebookでも使われるようになった\n",
    "    - HTTP/2はこのSPDYを改良したもの"
   ]
  },
  {
   "cell_type": "markdown",
   "metadata": {
    "slideshow": {
     "slide_type": "slide"
    }
   },
   "source": [
    "## HTTP/2の特徴\n",
    "\n",
    "- ヘッダの圧縮\n",
    "- リクエストの多重化\n",
    "- リクエストの優先度制御\n",
    "- バイナリプロトコル\n",
    "- サーバープッシュ"
   ]
  },
  {
   "cell_type": "markdown",
   "metadata": {
    "slideshow": {
     "slide_type": "subslide"
    }
   },
   "source": [
    "### ヘッダの圧縮\n",
    "\n",
    "\n",
    "- ヘッダー圧縮\n",
    "    - 従来の圧縮に加え、ヘッダ部分の圧縮ができる\n",
    "    - 静的テーブル、動的テーブル\n",
    "        - 使用頻度の高いヘッダ、一度送信したヘッダなどに番号を振り、次からそれを使う\n",
    "    - HPACK\n",
    "        - 動的に辞書を更新し、2回目移行はインデックスを用いる\n",
    "        - 文字列をHuffman Encodingによって圧縮\n",
    "            - 高頻度で用いられる文字を少ないビット数で表現する\n",
    "            - バイナリ形式\n",
    "            - [超わかりやすい解説記事](https://qiita.com/iwanaga/items/98f60003c0114e04095e)\n",
    "            - [超詳しい解説記事](http://syucream.github.io/hpack-spec-ja/rfc7541-ja.html)\n",
    "        - 差分のみを送信する\n",
    "- https://qiita.com/0xfffffff7/items/39b944e3845ab3776b63"
   ]
  },
  {
   "cell_type": "markdown",
   "metadata": {
    "slideshow": {
     "slide_type": "notes"
    }
   },
   "source": [
    "- HTTP/1.1のヘッダは大きい\n",
    "    - リクエストは最低でも300Byte程度\n",
    "    - Cookieなどで更に増える\n",
    "    \n",
    "- HTTP/1.1ではbodyをエンコードするのにgzipでサイズを圧縮する機構がある\n",
    "    - CRIMEという攻撃手法に備えるためヘッダの圧縮には使えない\n",
    "\n",
    "- 膨大なHTTPリクエスト/レスポンスのログのヘッダの文字の出現頻度を集計し、ハフマンツリーを作成\n",
    "- 高頻度で使われる文字列とは母音とか\n",
    "    - たとえばaとかが普通にすると8bit必要だったけど、例えば01みたいな2bitで耐える\n",
    "- 「\\(バックスラッシュ)」とかあまり使われない文字は19bitとか必要になり、逆に増える\n",
    "\n",
    "- この「ヘッダ圧縮」だけ取り上げて深めてみても面白そうなトピックだなと感じた\n",
    "\n",
    "- ちなみに「hpack」で検索するとhaskellのツールがでてくるが　、コレは関係ない\n",
    "    - jsでいうpackage.json的なファイルからコンパイルしたりするファイルを作成するやつ\n",
    "    \n",
    "    \n",
    "    "
   ]
  },
  {
   "cell_type": "markdown",
   "metadata": {
    "slideshow": {
     "slide_type": "subslide"
    }
   },
   "source": [
    "### リクエストとレスポンスの多重化\n",
    "\n",
    "- 1つの接続上にストリームという仮想的な双方向シーケンスを作り多重化\n",
    "- 同時に100以上のリクエストを送信可能\n",
    "- 並列に扱うことができる\n",
    "    - レスポンスの順序に制限なし\n",
    "    - HoLブロッキング問題を解決\n",
    "- データにはフレームという単位にわけられ、ストリーム上でやりとりされる\n",
    "    - 0-9の10種類がありIDが振られている\n",
    "    - 例えば\n",
    "        - ボディ(0),ヘッダ(1)\n",
    "        - ストリームの優先順位を指定(2)\n",
    "        - 接続の生存状態を調べる(7)\n",
    "    - クライアント側は奇数、サーバ側は偶数番号を割り当て、重複を防いでいる\n",
    "    - ストリームはサーバ側でもクライアント側でも開始可能\n"
   ]
  },
  {
   "cell_type": "markdown",
   "metadata": {
    "slideshow": {
     "slide_type": "notes"
    }
   },
   "source": [
    "- 「フレーム」というのはHTTP/2の通信の最小単位\n",
    "    - それぞれにフレームヘッダが含まれる"
   ]
  },
  {
   "cell_type": "markdown",
   "metadata": {
    "slideshow": {
     "slide_type": "subslide"
    }
   },
   "source": [
    "### リクエストの優先度制御\n",
    "\n",
    "- クライアントがサーバーに優先順位ツリーを送信することで、レスポンス優先度を指定できる\n",
    "- 重み付け\n",
    "    - 割り当てるリソースの割合を比率でしている\n",
    "    - 1~256の整数の重みを割り当てる\n",
    "    - デフォルトは16\n",
    "- 依存関係\n",
    "    - 各ストリームは、別のストリームに対して明示的な依存関係を指定できる\n",
    "    - より依存されているものが優先的に送られる\n",
    "- 優先度を付けることでユーザ体感速度を大幅に向上させることができる\n",
    "- [わかりやすい参考記事](https://qiita.com/Jxck_/items/16a5a9e9983e9ea1129f)\n",
    "- [わかりやすい参考スライド](https://www.slideshare.net/kazuho/http-58452175)\n",
    " "
   ]
  },
  {
   "cell_type": "markdown",
   "metadata": {
    "slideshow": {
     "slide_type": "notes"
    }
   },
   "source": [
    "- 先ほど紹介した2番のPRIORITYフレームを用いる\n",
    "- 偶数であることからもわかるように、クライアント側で指定する\n",
    "- サーバー側はクライアントから来たこの優先度は別に無視することもできる\n",
    "\n",
    "- 例えば、A,B,Cという画像かなにかがあって、これらに対して8,16,32のように重み付けをすると、\n",
    "- 1:2:3の割合でリソースが割り当てられることが期待される"
   ]
  },
  {
   "cell_type": "markdown",
   "metadata": {
    "slideshow": {
     "slide_type": "subslide"
    }
   },
   "source": [
    "### サーバープッシュ\n",
    "\n",
    "- サーバーがクライアントの発行するリクエストを予測してレスポンスを返す\n",
    "- 0RTTにすることができる\n",
    "- [詳細でわかりやすい解説記事](http://labs.gree.jp/blog/2014/12/11987/)\n",
    "\n",
    "\n",
    "\n"
   ]
  },
  {
   "cell_type": "markdown",
   "metadata": {
    "slideshow": {
     "slide_type": "notes"
    }
   },
   "source": [
    "- 1RTT(ラウンドトリップディレイ・タイム)は1往復にかかる時間のこと\n",
    "- HTTP/2にしたところで1RTTかかっちゃうけど、どうにか0RTTにしたいよな的な発想\n",
    "- リソースの数が増えればそれで時間がかかる"
   ]
  },
  {
   "cell_type": "markdown",
   "metadata": {
    "slideshow": {
     "slide_type": "subslide"
    }
   },
   "source": [
    "#### 例\n",
    "```\n",
    "<!DOCTYPE html>\n",
    "<html lang=\"ja\">\n",
    "<head>\n",
    "  <meta charset=\"UTF-8\">\n",
    "  <title>マジ卍</title>\n",
    "</head>\n",
    "<body>\n",
    "  <h1>おはようございます!!!!!!!!</h1>\n",
    "  <img alt=\"超おもしろい画像\" src=\"img/omosiro.png\">\n",
    "</body>\n",
    "</html>\n",
    "```"
   ]
  },
  {
   "cell_type": "markdown",
   "metadata": {
    "slideshow": {
     "slide_type": "subslide"
    }
   },
   "source": [
    "#### 従来\n",
    "\n",
    "1. index.htmlくれとリクエストを送る\n",
    "2. サーバーがindex.htmlを返す\n",
    "3. クライアントが上からindex.htmlをパース\n",
    "4. imgタグを見つけたら、再びomosiro.pngくれとリクエストを送る\n",
    "5. サーバーがomosiro.pngを返す\n",
    "\n",
    "#### サーバプッシュ\n",
    "1. index.htmlくれとリクエストを送る\n",
    "2. サーバーがindex.htmlとomosiro.pngを返す\n",
    "3. クライアントはomosiro.pngをキャッシュにセット\n",
    "4. クライアントが上からindex.htmlをパース\n",
    "5. imgが必要なことを発見しキャッシュを見に行く\n",
    "6. キャッシュにあるので表示"
   ]
  },
  {
   "cell_type": "markdown",
   "metadata": {
    "slideshow": {
     "slide_type": "subslide"
    }
   },
   "source": [
    "### バイナリベース\n",
    "\n",
    "- テキストベースからバイナリベースへ\n",
    "- サーバがパースを簡単に行える\n",
    "-  転送データ量の低減\n",
    "- エラーや間違いを減らす\n",
    "- セキュリティ向上\n",
    "    - HTTP Response Splitting Attack\n",
    "    - レスポンス分割攻撃"
   ]
  },
  {
   "cell_type": "markdown",
   "metadata": {
    "slideshow": {
     "slide_type": "notes"
    }
   },
   "source": [
    "- 0と1\n",
    "- 間違い\n",
    "    - 空白、大文字小文字の区別、改行コードなど"
   ]
  },
  {
   "cell_type": "markdown",
   "metadata": {
    "slideshow": {
     "slide_type": "subslide"
    }
   },
   "source": [
    "### フロー制御\n",
    "\n",
    "- ひとつのストリームがリソースを占有してしまうことで、他のストリームがブロックしてしまうことを防ぐ\n",
    "- [わかりやすい記事](https://qiita.com/Jxck_/items/622162ad8bcb69fa043d)"
   ]
  },
  {
   "cell_type": "markdown",
   "metadata": {
    "slideshow": {
     "slide_type": "slide"
    }
   },
   "source": [
    "# 試してみる"
   ]
  },
  {
   "cell_type": "markdown",
   "metadata": {
    "slideshow": {
     "slide_type": "subslide"
    }
   },
   "source": [
    "## HTTPプロトコルバージョンを確認する"
   ]
  },
  {
   "cell_type": "markdown",
   "metadata": {
    "slideshow": {
     "slide_type": "subslide"
    }
   },
   "source": [
    "httpのgoogle"
   ]
  },
  {
   "cell_type": "code",
   "execution_count": 1,
   "metadata": {
    "slideshow": {
     "slide_type": "fragment"
    }
   },
   "outputs": [
    {
     "name": "stdout",
     "output_type": "stream",
     "text": [
      "Protocol Version: HTTP/1.1\r\n"
     ]
    }
   ],
   "source": [
    "!go run ../https_server/http_google.go"
   ]
  },
  {
   "cell_type": "markdown",
   "metadata": {
    "slideshow": {
     "slide_type": "subslide"
    }
   },
   "source": [
    "httpsのgoogle"
   ]
  },
  {
   "cell_type": "code",
   "execution_count": null,
   "metadata": {
    "slideshow": {
     "slide_type": "fragment"
    }
   },
   "outputs": [],
   "source": [
    "!go run ../https_server/https_google.go"
   ]
  },
  {
   "cell_type": "markdown",
   "metadata": {
    "slideshow": {
     "slide_type": "slide"
    }
   },
   "source": [
    "## chromeで確認する方法\n"
   ]
  },
  {
   "cell_type": "markdown",
   "metadata": {
    "slideshow": {
     "slide_type": "slide"
    }
   },
   "source": [
    "# 対応"
   ]
  },
  {
   "cell_type": "markdown",
   "metadata": {
    "slideshow": {
     "slide_type": "slide"
    }
   },
   "source": [
    "# さいごに\n",
    "\n",
    "- もうちょい詳細にしてブログにまとめます"
   ]
  },
  {
   "cell_type": "markdown",
   "metadata": {
    "slideshow": {
     "slide_type": "slide"
    }
   },
   "source": [
    "# 参考文献\n",
    "\n",
    "これまでのスライド中に書いていない参考にした書籍やリンク先　を以下に示します。\n",
    "\n",
    "- Real World HTTP\n",
    "- https://ja.wikipedia.org/wiki/HTTP/2\n",
    "- https://blog.redbox.ne.jp/http2-cdn.html\n",
    "- http://www.seojapan.com/blog/everyone-moving-http2\n",
    "- https://www.slideshare.net/kazuho/http-58452175\n",
    "- https://developers.google.com/web/fundamentals/performance/http2/?hl=ja"
   ]
  }
 ],
 "metadata": {
  "celltoolbar": "Slideshow",
  "kernelspec": {
   "display_name": "Python 3",
   "language": "python",
   "name": "python3"
  },
  "language_info": {
   "codemirror_mode": {
    "name": "ipython",
    "version": 3
   },
   "file_extension": ".py",
   "mimetype": "text/x-python",
   "name": "python",
   "nbconvert_exporter": "python",
   "pygments_lexer": "ipython3",
   "version": "3.6.1"
  },
  "toc": {
   "nav_menu": {},
   "number_sections": false,
   "sideBar": true,
   "skip_h1_title": false,
   "toc_cell": false,
   "toc_position": {
    "height": "794px",
    "left": "0px",
    "right": "1466px",
    "top": "111px",
    "width": "212px"
   },
   "toc_section_display": "block",
   "toc_window_display": false
  }
 },
 "nbformat": 4,
 "nbformat_minor": 2
}
