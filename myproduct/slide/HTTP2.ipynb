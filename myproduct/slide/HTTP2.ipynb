{
 "cells": [
  {
   "cell_type": "markdown",
   "metadata": {
    "heading_collapsed": true,
    "slideshow": {
     "slide_type": "slide"
    }
   },
   "source": [
    "# このスライドへのアクセス方法\n",
    "\n",
    "1. 「nbviewer.jupyter.org」というサイトへアクセス\n",
    "2. 「mrsekut」で検索\n",
    "3. 「RealWorldHTTP > myproduct > slide > HTTP2.ipynb」\n",
    "4. 右上のプレゼントマークでスライドっぽく表示\n",
    "5. スペースキーで順番に移動\n",
    "\n",
    "[リンク](http://nbviewer.jupyter.org/github/mrsekut/RealWorldHTTP/blob/master/myproduct/slide/HTTP2.ipynb)\n"
   ]
  },
  {
   "cell_type": "markdown",
   "metadata": {
    "slideshow": {
     "slide_type": "slide"
    }
   },
   "source": [
    "# HTTP/2.0について\n",
    "\n",
    "丸末皓太"
   ]
  },
  {
   "cell_type": "markdown",
   "metadata": {
    "slideshow": {
     "slide_type": "slide"
    }
   },
   "source": [
    "# 自己紹介\n",
    "\n",
    "### 丸末皓太\n",
    "- 大阪府立大学(一応2回生)\n",
    "- 休学中\n",
    "- 府大生向けの「Opulency」というアプリを作った\n",
    "- 現在はtryangle社でばりばりアプリ開発してる卍卍\n",
    "- 最近興味あること\n",
    "    - Typescript: ReactNative\n",
    "    - Haskell: 関数型プログラミング\n",
    "    - Go: ネットワーク, プログラミング言語そのもの\n",
    "    - Rust: OSなどの低レイヤ\n",
    "    - テスト  \n",
    "\n"
   ]
  },
  {
   "cell_type": "markdown",
   "metadata": {
    "slideshow": {
     "slide_type": "subslide"
    }
   },
   "source": [
    "![mrsekut](https://github.com/mrsekut/myStorage/blob/master/img/mrsekut_circle.png?raw=true)\n",
    "\n",
    "### SNS\n",
    "- blog: [mrsekutの備忘録: http://mrsekut.site/](http://mrsekut.site/)\n",
    "- twitter: [@mrsekut](https://twitter.com/mrsekut)\n",
    "- github: [mrsekut](https://github.com/mrsekut)"
   ]
  },
  {
   "cell_type": "markdown",
   "metadata": {
    "slideshow": {
     "slide_type": "slide"
    }
   },
   "source": [
    "# 発表のながれ\n",
    "★あとで修正\n",
    "1. 発表の目的\n",
    "1. 従来のHTTP\n",
    "1. HTTP/2の概要\n",
    "1. ためしてみる\n",
    "1. なんか\n",
    "1. なんか\n"
   ]
  },
  {
   "cell_type": "markdown",
   "metadata": {
    "slideshow": {
     "slide_type": "slide"
    }
   },
   "source": [
    "# 発表のながれ\n",
    "★あとで修正\n",
    "\n",
    "1. __発表の目的__\n"
   ]
  },
  {
   "cell_type": "markdown",
   "metadata": {
    "slideshow": {
     "slide_type": "subslide"
    }
   },
   "source": [
    "# 発表の目的\n",
    "\n",
    "- 浅く広く紹介します\n",
    "- キーワードを拾っていってください"
   ]
  },
  {
   "cell_type": "markdown",
   "metadata": {
    "slideshow": {
     "slide_type": "slide"
    }
   },
   "source": [
    "★あとで修正\n",
    "\n",
    "\n",
    "1. 発表の目的\n",
    "1. __従来のHTTP__\n",
    "1. HTTP/2の概要\n",
    "1. なんか\n",
    "1. なんか\n",
    "1. なんか\n"
   ]
  },
  {
   "cell_type": "markdown",
   "metadata": {
    "slideshow": {
     "slide_type": "subslide"
    }
   },
   "source": [
    "# 従来のHTTP\n",
    "\n",
    "- リクエストとレスポンス\n",
    "- HTTP/1.1\n",
    "    - 1997年に策定"
   ]
  },
  {
   "cell_type": "markdown",
   "metadata": {
    "slideshow": {
     "slide_type": "subslide"
    }
   },
   "source": [
    "## HTTP1.1の課題\n",
    "\n",
    "- リクエストの多重化\n",
    "    - \n",
    "    - 1RTTで1リクエスト/1レスポンスしかできない\n",
    "- パイプライン化(課題か？\n",
    "    - 同時に複数のリクエストを送れるようになった\n",
    "    - しかし、同じ順序でレスポンスしないといけない\n",
    "- HoLブロッキング問題"
   ]
  },
  {
   "cell_type": "markdown",
   "metadata": {
    "slideshow": {
     "slide_type": "notes"
    }
   },
   "source": [
    "- なので、オーバーヘッドが生じる"
   ]
  },
  {
   "cell_type": "markdown",
   "metadata": {
    "slideshow": {
     "slide_type": "slide"
    }
   },
   "source": [
    "★あとで修正\n",
    "\n",
    "\n",
    "1. 発表の目的\n",
    "1. 従来のHTTP\n",
    "1. __HTTP/2の概要__\n",
    "1. ためしてみる\n",
    "1. なんか\n",
    "1. なんか\n",
    "\n"
   ]
  },
  {
   "cell_type": "markdown",
   "metadata": {
    "slideshow": {
     "slide_type": "subslide"
    }
   },
   "source": [
    "# HTTP/2の概要"
   ]
  },
  {
   "cell_type": "markdown",
   "metadata": {
    "slideshow": {
     "slide_type": "subslide"
    }
   },
   "source": [
    "## 誕生の背景\n",
    "\n",
    "- アクセスの増加\n",
    "- 16年ぶりの改訂\n",
    "- GoogleのSPDYから生まれた"
   ]
  },
  {
   "cell_type": "markdown",
   "metadata": {
    "slideshow": {
     "slide_type": "notes"
    }
   },
   "source": [
    "- LTEなどの普及によりエンドユーザーの通信速度は上昇したが、サーバー側のページロードの速度はそれに比例せず1.6Mbpsほどで頭打ちしていた\n",
    "- "
   ]
  },
  {
   "cell_type": "markdown",
   "metadata": {
    "slideshow": {
     "slide_type": "subslide"
    }
   },
   "source": [
    "## HTTP/2の特徴\n",
    "\n",
    "- ヘッダの圧縮\n",
    "- サーバープッシュ\n",
    "- リクエストの優先度制御\n",
    "- バイナリベース\n",
    "- シングルコネクション\n",
    "- マルチプレックス"
   ]
  },
  {
   "cell_type": "markdown",
   "metadata": {
    "slideshow": {
     "slide_type": "slide"
    }
   },
   "source": [
    "### ヘッダの圧縮\n",
    "\n",
    "\n",
    "- ヘッダー圧縮\n",
    "    - 従来の圧縮に加え、ヘッダ部分の圧縮ができる\n",
    "    - HPACK\n",
    "        - バイナリ形式\n",
    "        - 高頻度で用いられるヘッダーのキーと値を組みにした辞書\n",
    "        - 動的に辞書を更新し、2回目移行はインデックスを用いる\n",
    "        - キーや値の文字列をハフマン符号化によって圧縮\n",
    "        - 差分のみを送信する\n"
   ]
  },
  {
   "cell_type": "markdown",
   "metadata": {
    "slideshow": {
     "slide_type": "notes"
    }
   },
   "source": [
    "- HTTP/1.1のヘッダは大きい\n",
    "    - リクエストは最低でも300Byte程度\n",
    "    - Cookieなどで更に増える"
   ]
  },
  {
   "cell_type": "markdown",
   "metadata": {},
   "source": [
    "### フロー制御\n",
    "\n",
    "    - ストリームごとにフロー制御が可能\n"
   ]
  },
  {
   "cell_type": "markdown",
   "metadata": {},
   "source": [
    "### 多重化\n",
    "\n",
    "- 多重化(どれかの項目とかぶっているかも)\n",
    "   - 同時に100以上のリクエストを送信可能\n",
    "   - 任意のタイミングでリクエスト送信可能\n",
    "\n",
    "   - レスポンスの順序に制限なし\n",
    "   - 1つの接続上にストリームと呼ばれる仮想的な双方向シーケンスを作る(するとどうなる？)\n",
    "   - 複数並列に扱うことができる\n",
    "   - HTTPパイプライン問題を解決\n",
    "   - ストリームはサーバ側でもクライアント側でも開始可能\n",
    "   - ストリームにはIDが振られ、クライアント側は奇数、サーバ側は偶数番号を割り当て、重複を防いでいる\n"
   ]
  },
  {
   "cell_type": "markdown",
   "metadata": {},
   "source": [
    "### サーバープッシュ\n",
    "\n",
    "- 今後の利用のために追加のリクエストがなくとも、追加のリソースをクライアント側に送信することができる\n",
    "- 0RTTにすることができる\n",
    "- サーバーがクライアントの発行するリクエストを予測してレスポンスをプッシュ\n"
   ]
  },
  {
   "cell_type": "markdown",
   "metadata": {
    "slideshow": {
     "slide_type": "slide"
    }
   },
   "source": [
    "### リクエストの優先度制御\n",
    "\n",
    "- クライアントがサーバーにレスポンス優先度を指定できる\n",
    "- 優先度を付けることでユーザ体感速度を大幅に向上させることができる\n",
    "- 重み付け\n",
    "    - 値に比例したバンド幅の配分★\n",
    "- 依存関係\n",
    "    - 依存しているレスポンス先に送信\n",
    "    - グループ化にも利用\n",
    "    \n",
    "##### 参考\n",
    "39~\n",
    "https://www.slideshare.net/kazuho/http-58452175"
   ]
  },
  {
   "cell_type": "markdown",
   "metadata": {
    "slideshow": {
     "slide_type": "notes"
    }
   },
   "source": [
    "- 「重み付け」と「依存関係」の2種類の制御手法の組み合わせで優先度を制御している\n",
    "- サーバーは指定された優先度を「参考にする」★"
   ]
  },
  {
   "cell_type": "markdown",
   "metadata": {},
   "source": [
    "### バイナリベース\n",
    "\n",
    "\n",
    "  - サーバーがパースを簡単に行えるようになり、よりコンパクトに、そしてエラーを減らすことができる\n",
    "  - 脆弱性を防ぐ\n",
    "    - HTTP Response Splitting Attack\n",
    "    - レスポンス分割攻撃\n",
    "  - 転送データ量の低減\n",
    "  - 全てのデータは「フレーム」に分解して送受信\n"
   ]
  },
  {
   "cell_type": "markdown",
   "metadata": {},
   "source": [
    "### シングルコネクション\n",
    "\n",
    "  - ウェブサイトを読み込むためにサーバーに接続する回数はたったの一度\n",
    "  - TCPコネクションを張るために必要なラウンドトリップの回数を減らす\n",
    "\n",
    "\n"
   ]
  },
  {
   "cell_type": "markdown",
   "metadata": {},
   "source": [
    "### マルチプレックス\n",
    "\n",
    "  - 同じ接続で同時期に複数のリクエストを送信することができる\n",
    "  - 1.1では別の送信が完了するまで待たないといけなかった\n"
   ]
  },
  {
   "cell_type": "markdown",
   "metadata": {
    "slideshow": {
     "slide_type": "slide"
    }
   },
   "source": [
    "# 試してみる"
   ]
  },
  {
   "cell_type": "code",
   "execution_count": 3,
   "metadata": {
    "scrolled": true,
    "slideshow": {
     "slide_type": "-"
    }
   },
   "outputs": [
    {
     "name": "stdout",
     "output_type": "stream",
     "text": [
      "* Rebuilt URL to: http://example.com/\n",
      "*   Trying 93.184.216.34...\n",
      "* TCP_NODELAY set\n",
      "* Connected to example.com (93.184.216.34) port 80 (#0)\n",
      "> GET / HTTP/1.1\n",
      "> Host: example.com\n",
      "> User-Agent: curl/7.54.0\n",
      "> Accept: */*\n",
      "> \n",
      "< HTTP/1.1 200 OK\n",
      "< Cache-Control: max-age=604800\n",
      "< Content-Type: text/html; charset=UTF-8\n",
      "< Date: Tue, 28 Aug 2018 12:15:55 GMT\n",
      "< Etag: \"1541025663+ident\"\n",
      "< Expires: Tue, 04 Sep 2018 12:15:55 GMT\n",
      "< Last-Modified: Fri, 09 Aug 2013 23:54:35 GMT\n",
      "< Server: ECS (oxr/8313)\n",
      "< Vary: Accept-Encoding\n",
      "< X-Cache: HIT\n",
      "< Content-Length: 1270\n",
      "< \n",
      "<!doctype html>\n",
      "<html>\n",
      "<head>\n",
      "    <title>Example Domain</title>\n",
      "\n",
      "    <meta charset=\"utf-8\" />\n",
      "    <meta http-equiv=\"Content-type\" content=\"text/html; charset=utf-8\" />\n",
      "    <meta name=\"viewport\" content=\"width=device-width, initial-scale=1\" />\n",
      "    <style type=\"text/css\">\n",
      "    body {\n",
      "        background-color: #f0f0f2;\n",
      "        margin: 0;\n",
      "        padding: 0;\n",
      "        font-family: \"Open Sans\", \"Helvetica Neue\", Helvetica, Arial, sans-serif;\n",
      "        \n",
      "    }\n",
      "    div {\n",
      "        width: 600px;\n",
      "        margin: 5em auto;\n",
      "        padding: 50px;\n",
      "        background-color: #fff;\n",
      "        border-radius: 1em;\n",
      "    }\n",
      "    a:link, a:visited {\n",
      "        color: #38488f;\n",
      "        text-decoration: none;\n",
      "    }\n",
      "    @media (max-width: 700px) {\n",
      "        body {\n",
      "            background-color: #fff;\n",
      "        }\n",
      "        div {\n",
      "            width: auto;\n",
      "            margin: 0 auto;\n",
      "            border-radius: 0;\n",
      "            padding: 1em;\n",
      "        }\n",
      "    }\n",
      "    </style>    \n",
      "</head>\n",
      "\n",
      "<body>\n",
      "<div>\n",
      "    <h1>Example Domain</h1>\n",
      "    <p>This domain is established to be used for illustrative examples in documents. You may use this\n",
      "    domain in examples without prior coordination or asking for permission.</p>\n",
      "    <p><a href=\"http://www.iana.org/domains/example\">More information...</a></p>\n",
      "</div>\n",
      "</body>\n",
      "</html>\n",
      "* Connection #0 to host example.com left intact\n"
     ]
    }
   ],
   "source": [
    "!curl -v http://example.com"
   ]
  },
  {
   "cell_type": "markdown",
   "metadata": {
    "slideshow": {
     "slide_type": "slide"
    }
   },
   "source": [
    "## chromeで確認する方法\n"
   ]
  },
  {
   "cell_type": "markdown",
   "metadata": {},
   "source": [
    "# 対応"
   ]
  },
  {
   "cell_type": "markdown",
   "metadata": {
    "slideshow": {
     "slide_type": "slide"
    }
   },
   "source": [
    "# さいごに\n",
    "\n",
    "- もうちょい詳細にしてブログにまとめます"
   ]
  },
  {
   "cell_type": "markdown",
   "metadata": {
    "slideshow": {
     "slide_type": "slide"
    }
   },
   "source": [
    "# 参考文献\n",
    "\n",
    "- Real World HTTP\n",
    "- https://ja.wikipedia.org/wiki/HTTP/2\n",
    "- https://blog.redbox.ne.jp/http2-cdn.html\n",
    "- http://www.seojapan.com/blog/everyone-moving-http2\n"
   ]
  },
  {
   "cell_type": "code",
   "execution_count": null,
   "metadata": {},
   "outputs": [],
   "source": []
  }
 ],
 "metadata": {
  "celltoolbar": "Slideshow",
  "kernelspec": {
   "display_name": "Python 3",
   "language": "python",
   "name": "python3"
  },
  "language_info": {
   "codemirror_mode": {
    "name": "ipython",
    "version": 3
   },
   "file_extension": ".py",
   "mimetype": "text/x-python",
   "name": "python",
   "nbconvert_exporter": "python",
   "pygments_lexer": "ipython3",
   "version": "3.6.1"
  },
  "toc": {
   "nav_menu": {},
   "number_sections": false,
   "sideBar": true,
   "skip_h1_title": false,
   "toc_cell": false,
   "toc_position": {
    "height": "794px",
    "left": "0px",
    "right": "1466px",
    "top": "111px",
    "width": "212px"
   },
   "toc_section_display": "block",
   "toc_window_display": false
  }
 },
 "nbformat": 4,
 "nbformat_minor": 2
}
