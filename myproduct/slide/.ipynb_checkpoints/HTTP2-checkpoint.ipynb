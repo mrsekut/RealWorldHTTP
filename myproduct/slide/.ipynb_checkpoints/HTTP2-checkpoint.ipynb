{
 "cells": [
  {
   "cell_type": "markdown",
   "metadata": {
    "slideshow": {
     "slide_type": "slide"
    }
   },
   "source": [
    "# HTTP/2.0について\n",
    "\n",
    "丸末皓太"
   ]
  },
  {
   "cell_type": "markdown",
   "metadata": {
    "slideshow": {
     "slide_type": "slide"
    }
   },
   "source": [
    "# 自己紹介\n",
    "\n",
    "### 丸末皓太\n",
    "- 大阪府立大学　一応2回生\n",
    "- 休学中\n",
    "- 府大生向けの「Opulency」というアプリを作った\n",
    "- 最近興味あること\n",
    "    - Typescript: ReactNative\n",
    "    - Haskell: 関数型プログラミング\n",
    "    - Go: ネットワーク, プログラミング言語そのもの\n",
    "    - Rust: OSなどの低レイヤ\n",
    "    - テスト  \n",
    "\n"
   ]
  },
  {
   "attachments": {},
   "cell_type": "markdown",
   "metadata": {
    "slideshow": {
     "slide_type": "subslide"
    }
   },
   "source": [
    "![mrsekut](https://github.com/mrsekut/myStorage/blob/master/img/mrsekut_circle.png)\n",
    "\n",
    "### SNS\n",
    "- blog\n",
    "    - [mrsekutの備忘録: http://mrsekut.site/](http://mrsekut.site/)\n",
    "- twitter\n",
    "    - [@mrsekut](https://twitter.com/mrsekut)\n",
    "- github\n",
    "    - [mrsekut](https://github.com/mrsekut)"
   ]
  },
  {
   "cell_type": "markdown",
   "metadata": {
    "slideshow": {
     "slide_type": "slide"
    }
   },
   "source": [
    "# アジェンダ\n",
    "\n",
    "1. HTTP/2の概要\n",
    "2. \n",
    "3. \n",
    "\n"
   ]
  },
  {
   "cell_type": "markdown",
   "metadata": {
    "slideshow": {
     "slide_type": "slide"
    }
   },
   "source": [
    "# 参考"
   ]
  },
  {
   "cell_type": "code",
   "execution_count": null,
   "metadata": {},
   "outputs": [],
   "source": []
  }
 ],
 "metadata": {
  "celltoolbar": "Slideshow",
  "kernelspec": {
   "display_name": "Python 3",
   "language": "python",
   "name": "python3"
  },
  "language_info": {
   "codemirror_mode": {
    "name": "ipython",
    "version": 3
   },
   "file_extension": ".py",
   "mimetype": "text/x-python",
   "name": "python",
   "nbconvert_exporter": "python",
   "pygments_lexer": "ipython3",
   "version": "3.6.1"
  },
  "toc": {
   "nav_menu": {},
   "number_sections": false,
   "sideBar": true,
   "skip_h1_title": false,
   "toc_cell": false,
   "toc_position": {
    "height": "794px",
    "left": "0px",
    "right": "1466px",
    "top": "111px",
    "width": "212px"
   },
   "toc_section_display": "block",
   "toc_window_display": false
  }
 },
 "nbformat": 4,
 "nbformat_minor": 2
}
